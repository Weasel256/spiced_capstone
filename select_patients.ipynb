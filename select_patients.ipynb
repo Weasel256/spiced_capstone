{
 "cells": [
  {
   "cell_type": "code",
   "execution_count": 50,
   "metadata": {},
   "outputs": [],
   "source": [
    "# Import necessary packages and functions\n",
    "import numpy as np\n",
    "import pandas as pd \n",
    "import re\n",
    "from utility_funs import get_seizure_sequence"
   ]
  },
  {
   "cell_type": "code",
   "execution_count": 53,
   "metadata": {},
   "outputs": [],
   "source": [
    "# Create df from summary-txt-files\n",
    "df = get_seizure_sequence(\"data\")"
   ]
  },
  {
   "cell_type": "code",
   "execution_count": 54,
   "metadata": {},
   "outputs": [
    {
     "data": {
      "text/html": [
       "<div>\n",
       "<style scoped>\n",
       "    .dataframe tbody tr th:only-of-type {\n",
       "        vertical-align: middle;\n",
       "    }\n",
       "\n",
       "    .dataframe tbody tr th {\n",
       "        vertical-align: top;\n",
       "    }\n",
       "\n",
       "    .dataframe thead th {\n",
       "        text-align: right;\n",
       "    }\n",
       "</style>\n",
       "<table border=\"1\" class=\"dataframe\">\n",
       "  <thead>\n",
       "    <tr style=\"text-align: right;\">\n",
       "      <th></th>\n",
       "      <th>file_name</th>\n",
       "      <th>number_of_seizures</th>\n",
       "      <th>seizure_start</th>\n",
       "      <th>seizure_end</th>\n",
       "      <th>patient</th>\n",
       "    </tr>\n",
       "  </thead>\n",
       "  <tbody>\n",
       "    <tr>\n",
       "      <th>0</th>\n",
       "      <td>chb11_82.edf</td>\n",
       "      <td>1</td>\n",
       "      <td>298.0</td>\n",
       "      <td>320.0</td>\n",
       "      <td>chb11</td>\n",
       "    </tr>\n",
       "    <tr>\n",
       "      <th>1</th>\n",
       "      <td>chb11_92.edf</td>\n",
       "      <td>1</td>\n",
       "      <td>2695.0</td>\n",
       "      <td>2727.0</td>\n",
       "      <td>chb11</td>\n",
       "    </tr>\n",
       "    <tr>\n",
       "      <th>2</th>\n",
       "      <td>chb11_99.edf</td>\n",
       "      <td>1</td>\n",
       "      <td>1454.0</td>\n",
       "      <td>2206.0</td>\n",
       "      <td>chb11</td>\n",
       "    </tr>\n",
       "    <tr>\n",
       "      <th>3</th>\n",
       "      <td>chb16_10.edf</td>\n",
       "      <td>1</td>\n",
       "      <td>2290.0</td>\n",
       "      <td>2299.0</td>\n",
       "      <td>chb16</td>\n",
       "    </tr>\n",
       "    <tr>\n",
       "      <th>4</th>\n",
       "      <td>chb16_11.edf</td>\n",
       "      <td>1</td>\n",
       "      <td>1120.0</td>\n",
       "      <td>1129.0</td>\n",
       "      <td>chb16</td>\n",
       "    </tr>\n",
       "  </tbody>\n",
       "</table>\n",
       "</div>"
      ],
      "text/plain": [
       "      file_name  number_of_seizures  seizure_start  seizure_end patient\n",
       "0  chb11_82.edf                   1          298.0        320.0   chb11\n",
       "1  chb11_92.edf                   1         2695.0       2727.0   chb11\n",
       "2  chb11_99.edf                   1         1454.0       2206.0   chb11\n",
       "3  chb16_10.edf                   1         2290.0       2299.0   chb16\n",
       "4  chb16_11.edf                   1         1120.0       1129.0   chb16"
      ]
     },
     "execution_count": 54,
     "metadata": {},
     "output_type": "execute_result"
    }
   ],
   "source": [
    "# Create patient column by extracting patient-id from file_name\n",
    "# First split at the underscore and keep the left part\n",
    "# Second extract \"chb\" and all integers to get rid of possible suffixes like \"a\", \"b\", and \"c\"\n",
    "df[\"patient\"] = df['file_name'].str.split('_').str[0].str.extract(r'(chb\\d+)')\n",
    "df.head()"
   ]
  },
  {
   "cell_type": "code",
   "execution_count": 59,
   "metadata": {},
   "outputs": [],
   "source": [
    "# Sum number_of_seizures per patients and drop obsolete columns\n",
    "patients = df.groupby(\"patient\").sum(\"number_of_seizures\").reset_index().drop([\"seizure_start\", \"seizure_end\"], axis=1)"
   ]
  },
  {
   "cell_type": "code",
   "execution_count": 58,
   "metadata": {},
   "outputs": [
    {
     "data": {
      "text/html": [
       "<div>\n",
       "<style scoped>\n",
       "    .dataframe tbody tr th:only-of-type {\n",
       "        vertical-align: middle;\n",
       "    }\n",
       "\n",
       "    .dataframe tbody tr th {\n",
       "        vertical-align: top;\n",
       "    }\n",
       "\n",
       "    .dataframe thead th {\n",
       "        text-align: right;\n",
       "    }\n",
       "</style>\n",
       "<table border=\"1\" class=\"dataframe\">\n",
       "  <thead>\n",
       "    <tr style=\"text-align: right;\">\n",
       "      <th></th>\n",
       "      <th>patient</th>\n",
       "      <th>number_of_seizures</th>\n",
       "    </tr>\n",
       "  </thead>\n",
       "  <tbody>\n",
       "    <tr>\n",
       "      <th>0</th>\n",
       "      <td>chb01</td>\n",
       "      <td>7</td>\n",
       "    </tr>\n",
       "    <tr>\n",
       "      <th>1</th>\n",
       "      <td>chb02</td>\n",
       "      <td>6</td>\n",
       "    </tr>\n",
       "    <tr>\n",
       "      <th>2</th>\n",
       "      <td>chb03</td>\n",
       "      <td>7</td>\n",
       "    </tr>\n",
       "    <tr>\n",
       "      <th>3</th>\n",
       "      <td>chb04</td>\n",
       "      <td>6</td>\n",
       "    </tr>\n",
       "    <tr>\n",
       "      <th>4</th>\n",
       "      <td>chb05</td>\n",
       "      <td>5</td>\n",
       "    </tr>\n",
       "    <tr>\n",
       "      <th>6</th>\n",
       "      <td>chb07</td>\n",
       "      <td>3</td>\n",
       "    </tr>\n",
       "    <tr>\n",
       "      <th>7</th>\n",
       "      <td>chb08</td>\n",
       "      <td>5</td>\n",
       "    </tr>\n",
       "    <tr>\n",
       "      <th>8</th>\n",
       "      <td>chb09</td>\n",
       "      <td>6</td>\n",
       "    </tr>\n",
       "    <tr>\n",
       "      <th>10</th>\n",
       "      <td>chb11</td>\n",
       "      <td>3</td>\n",
       "    </tr>\n",
       "    <tr>\n",
       "      <th>16</th>\n",
       "      <td>chb17</td>\n",
       "      <td>3</td>\n",
       "    </tr>\n",
       "    <tr>\n",
       "      <th>17</th>\n",
       "      <td>chb18</td>\n",
       "      <td>6</td>\n",
       "    </tr>\n",
       "    <tr>\n",
       "      <th>18</th>\n",
       "      <td>chb19</td>\n",
       "      <td>3</td>\n",
       "    </tr>\n",
       "    <tr>\n",
       "      <th>20</th>\n",
       "      <td>chb21</td>\n",
       "      <td>4</td>\n",
       "    </tr>\n",
       "    <tr>\n",
       "      <th>21</th>\n",
       "      <td>chb22</td>\n",
       "      <td>3</td>\n",
       "    </tr>\n",
       "  </tbody>\n",
       "</table>\n",
       "</div>"
      ],
      "text/plain": [
       "   patient  number_of_seizures\n",
       "0    chb01                   7\n",
       "1    chb02                   6\n",
       "2    chb03                   7\n",
       "3    chb04                   6\n",
       "4    chb05                   5\n",
       "6    chb07                   3\n",
       "7    chb08                   5\n",
       "8    chb09                   6\n",
       "10   chb11                   3\n",
       "16   chb17                   3\n",
       "17   chb18                   6\n",
       "18   chb19                   3\n",
       "20   chb21                   4\n",
       "21   chb22                   3"
      ]
     },
     "execution_count": 58,
     "metadata": {},
     "output_type": "execute_result"
    }
   ],
   "source": [
    "# Filter for all patients with 10 or less seizures\n",
    "# FYI: In the paper by Truong et al (https://arxiv.org/pdf/1806.08235.pdf), patients were selected slightly differently\n",
    "filtered_df = patients[patients[\"number_of_seizures\"] <= 10]"
   ]
  },
  {
   "cell_type": "code",
   "execution_count": null,
   "metadata": {},
   "outputs": [],
   "source": [
    "# Return a list of patient numbers\n",
    "patient_list = [int(re.search(r'\\d+', patient).group()) for patient in filtered_df[\"patient\"]]"
   ]
  },
  {
   "cell_type": "code",
   "execution_count": 45,
   "metadata": {},
   "outputs": [
    {
     "data": {
      "text/plain": [
       "['chb01',\n",
       " 'chb02',\n",
       " 'chb03',\n",
       " 'chb04',\n",
       " 'chb05',\n",
       " 'chb07',\n",
       " 'chb08',\n",
       " 'chb09',\n",
       " 'chb11',\n",
       " 'chb17',\n",
       " 'chb18',\n",
       " 'chb19',\n",
       " 'chb21',\n",
       " 'chb22']"
      ]
     },
     "execution_count": 45,
     "metadata": {},
     "output_type": "execute_result"
    }
   ],
   "source": [
    "patient_list"
   ]
  }
 ],
 "metadata": {
  "kernelspec": {
   "display_name": ".venv",
   "language": "python",
   "name": "python3"
  },
  "language_info": {
   "codemirror_mode": {
    "name": "ipython",
    "version": 3
   },
   "file_extension": ".py",
   "mimetype": "text/x-python",
   "name": "python",
   "nbconvert_exporter": "python",
   "pygments_lexer": "ipython3",
   "version": "3.11.3"
  }
 },
 "nbformat": 4,
 "nbformat_minor": 2
}
